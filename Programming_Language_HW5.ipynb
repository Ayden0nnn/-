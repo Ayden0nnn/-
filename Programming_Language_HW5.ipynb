{
  "metadata": {
    "kernelspec": {
      "language": "python",
      "display_name": "Python 3",
      "name": "python3"
    },
    "language_info": {
      "name": "python",
      "version": "3.10.12",
      "mimetype": "text/x-python",
      "codemirror_mode": {
        "name": "ipython",
        "version": 3
      },
      "pygments_lexer": "ipython3",
      "nbconvert_exporter": "python",
      "file_extension": ".py"
    },
    "kaggle": {
      "accelerator": "none",
      "dataSources": [
        {
          "sourceId": 12652,
          "databundleVersionId": 267240,
          "sourceType": "competition"
        }
      ],
      "dockerImageVersionId": 30615,
      "isInternetEnabled": true,
      "language": "python",
      "sourceType": "notebook",
      "isGpuEnabled": false
    },
    "colab": {
      "provenance": [],
      "include_colab_link": true
    }
  },
  "nbformat_minor": 0,
  "nbformat": 4,
  "cells": [
    {
      "cell_type": "markdown",
      "metadata": {
        "id": "view-in-github",
        "colab_type": "text"
      },
      "source": [
        "<a href=\"https://colab.research.google.com/github/Ayden0nnn/Programming-Language/blob/main/Programming_Language_HW5.ipynb\" target=\"_parent\"><img src=\"https://colab.research.google.com/assets/colab-badge.svg\" alt=\"Open In Colab\"/></a>"
      ]
    },
    {
      "cell_type": "code",
      "source": [
        "# This Python 3 environment comes with many helpful analytics libraries installed\n",
        "# It is defined by the kaggle/python Docker image: https://github.com/kaggle/docker-python\n",
        "# For example, here's several helpful packages to load\n",
        "\n",
        "import numpy as np # linear algebra\n",
        "import pandas as pd # data processing, CSV file I/O (e.g. pd.read_csv)\n",
        "\n",
        "# Input data files are available in the read-only \"../input/\" directory\n",
        "# For example, running this (by clicking run or pressing Shift+Enter) will list all files under the input directory\n",
        "\n",
        "import os\n",
        "for dirname, _, filenames in os.walk('/kaggle/input'):\n",
        "    for filename in filenames:\n",
        "        print(os.path.join(dirname, filename))\n",
        "\n",
        "# You can write up to 20GB to the current directory (/kaggle/working/) that gets preserved as output when you create a version using \"Save & Run All\"\n",
        "# You can also write temporary files to /kaggle/temp/, but they won't be saved outside of the current session"
      ],
      "metadata": {
        "_uuid": "8f2839f25d086af736a60e9eeb907d3b93b6e0e5",
        "_cell_guid": "b1076dfc-b9ad-4769-8c92-a6c4dae69d19",
        "execution": {
          "iopub.status.busy": "2023-12-08T15:01:09.589236Z",
          "iopub.execute_input": "2023-12-08T15:01:09.589612Z",
          "iopub.status.idle": "2023-12-08T15:01:09.909644Z",
          "shell.execute_reply.started": "2023-12-08T15:01:09.589584Z",
          "shell.execute_reply": "2023-12-08T15:01:09.908316Z"
        },
        "trusted": true,
        "id": "B-Y9aG_JqpQ9",
        "outputId": "251ecf9c-093c-4dc4-b1d9-4efc1ec53d88"
      },
      "execution_count": null,
      "outputs": [
        {
          "name": "stdout",
          "text": "/kaggle/input/diabetes-classification/sample_submission.csv\n/kaggle/input/diabetes-classification/train.csv\n/kaggle/input/diabetes-classification/test.csv\n",
          "output_type": "stream"
        }
      ]
    },
    {
      "cell_type": "code",
      "source": [
        "import numpy as np\n",
        "import pandas as pd\n",
        "from sklearn.ensemble import RandomForestClassifier\n",
        "from sklearn.model_selection import train_test_split\n",
        "from sklearn.metrics import confusion_matrix, classification_report"
      ],
      "metadata": {
        "execution": {
          "iopub.status.busy": "2023-12-08T15:01:09.911397Z",
          "iopub.execute_input": "2023-12-08T15:01:09.911769Z",
          "iopub.status.idle": "2023-12-08T15:01:11.402056Z",
          "shell.execute_reply.started": "2023-12-08T15:01:09.911745Z",
          "shell.execute_reply": "2023-12-08T15:01:11.401255Z"
        },
        "trusted": true,
        "id": "EjD7HaQ4qpRA"
      },
      "execution_count": null,
      "outputs": []
    },
    {
      "cell_type": "code",
      "source": [
        "data = pd.read_csv('../input/diabetes-classification/train.csv')\n",
        "test = pd.read_csv('../input/diabetes-classification/test.csv')\n",
        "sample = pd.read_csv('../input/diabetes-classification/sample_submission.csv')\n",
        "data.head()"
      ],
      "metadata": {
        "execution": {
          "iopub.status.busy": "2023-12-08T15:01:11.403275Z",
          "iopub.execute_input": "2023-12-08T15:01:11.403801Z",
          "iopub.status.idle": "2023-12-08T15:01:11.470625Z",
          "shell.execute_reply.started": "2023-12-08T15:01:11.403771Z",
          "shell.execute_reply": "2023-12-08T15:01:11.469810Z"
        },
        "trusted": true,
        "id": "BmPkkMPBqpRB",
        "outputId": "917c434b-2d32-449f-a303-c84a031963db"
      },
      "execution_count": null,
      "outputs": [
        {
          "execution_count": 3,
          "output_type": "execute_result",
          "data": {
            "text/plain": "   p_id  no_times_pregnant  glucose_concentration  blood_pressure  \\\n0   316                  2                    112              68   \n1    25                 11                    143              94   \n2   710                  2                     93              64   \n3   658                  1                    120              80   \n4   542                  3                    128              72   \n\n   skin_fold_thickness  serum_insulin   bmi  diabetes pedigree  age  diabetes  \n0                   22             94  34.1              0.315   26         0  \n1                   33            146  36.6              0.254   51         1  \n2                   32            160  38.0              0.674   23         1  \n3                   48            200  38.9              1.162   41         0  \n4                   25            190  32.4              0.549   27         1  ",
            "text/html": "<div>\n<style scoped>\n    .dataframe tbody tr th:only-of-type {\n        vertical-align: middle;\n    }\n\n    .dataframe tbody tr th {\n        vertical-align: top;\n    }\n\n    .dataframe thead th {\n        text-align: right;\n    }\n</style>\n<table border=\"1\" class=\"dataframe\">\n  <thead>\n    <tr style=\"text-align: right;\">\n      <th></th>\n      <th>p_id</th>\n      <th>no_times_pregnant</th>\n      <th>glucose_concentration</th>\n      <th>blood_pressure</th>\n      <th>skin_fold_thickness</th>\n      <th>serum_insulin</th>\n      <th>bmi</th>\n      <th>diabetes pedigree</th>\n      <th>age</th>\n      <th>diabetes</th>\n    </tr>\n  </thead>\n  <tbody>\n    <tr>\n      <th>0</th>\n      <td>316</td>\n      <td>2</td>\n      <td>112</td>\n      <td>68</td>\n      <td>22</td>\n      <td>94</td>\n      <td>34.1</td>\n      <td>0.315</td>\n      <td>26</td>\n      <td>0</td>\n    </tr>\n    <tr>\n      <th>1</th>\n      <td>25</td>\n      <td>11</td>\n      <td>143</td>\n      <td>94</td>\n      <td>33</td>\n      <td>146</td>\n      <td>36.6</td>\n      <td>0.254</td>\n      <td>51</td>\n      <td>1</td>\n    </tr>\n    <tr>\n      <th>2</th>\n      <td>710</td>\n      <td>2</td>\n      <td>93</td>\n      <td>64</td>\n      <td>32</td>\n      <td>160</td>\n      <td>38.0</td>\n      <td>0.674</td>\n      <td>23</td>\n      <td>1</td>\n    </tr>\n    <tr>\n      <th>3</th>\n      <td>658</td>\n      <td>1</td>\n      <td>120</td>\n      <td>80</td>\n      <td>48</td>\n      <td>200</td>\n      <td>38.9</td>\n      <td>1.162</td>\n      <td>41</td>\n      <td>0</td>\n    </tr>\n    <tr>\n      <th>4</th>\n      <td>542</td>\n      <td>3</td>\n      <td>128</td>\n      <td>72</td>\n      <td>25</td>\n      <td>190</td>\n      <td>32.4</td>\n      <td>0.549</td>\n      <td>27</td>\n      <td>1</td>\n    </tr>\n  </tbody>\n</table>\n</div>"
          },
          "metadata": {}
        }
      ]
    },
    {
      "cell_type": "code",
      "source": [
        "# data = data.drop('p_id',axis=1)\n",
        "# sns.pairplot(data,hue=\"diabetes\")\n",
        "# plt.show()"
      ],
      "metadata": {
        "execution": {
          "iopub.status.busy": "2023-12-08T15:01:11.472833Z",
          "iopub.execute_input": "2023-12-08T15:01:11.473294Z",
          "iopub.status.idle": "2023-12-08T15:01:11.476725Z",
          "shell.execute_reply.started": "2023-12-08T15:01:11.473268Z",
          "shell.execute_reply": "2023-12-08T15:01:11.475828Z"
        },
        "trusted": true,
        "id": "t8SdLhgQqpRC"
      },
      "execution_count": null,
      "outputs": []
    },
    {
      "cell_type": "code",
      "source": [
        "columns = ['glucose_concentration','blood_pressure','skin_fold_thickness','serum_insulin']\n",
        "data[columns] = data[columns].replace(0, np.nan)\n",
        "data[columns] = data[columns].apply(lambda col: col.fillna(col.mean()), axis=0)"
      ],
      "metadata": {
        "execution": {
          "iopub.status.busy": "2023-12-08T15:01:11.477649Z",
          "iopub.execute_input": "2023-12-08T15:01:11.477906Z",
          "iopub.status.idle": "2023-12-08T15:01:11.504724Z",
          "shell.execute_reply.started": "2023-12-08T15:01:11.477880Z",
          "shell.execute_reply": "2023-12-08T15:01:11.503623Z"
        },
        "trusted": true,
        "id": "O70TK7JaqpRC"
      },
      "execution_count": null,
      "outputs": []
    },
    {
      "cell_type": "code",
      "source": [
        "x = data.drop('diabetes',axis=1)\n",
        "y = data['diabetes']"
      ],
      "metadata": {
        "execution": {
          "iopub.status.busy": "2023-12-08T15:01:11.506389Z",
          "iopub.execute_input": "2023-12-08T15:01:11.507437Z",
          "iopub.status.idle": "2023-12-08T15:01:11.513550Z",
          "shell.execute_reply.started": "2023-12-08T15:01:11.507396Z",
          "shell.execute_reply": "2023-12-08T15:01:11.512092Z"
        },
        "trusted": true,
        "id": "cq-BA7kIqpRD"
      },
      "execution_count": null,
      "outputs": []
    },
    {
      "cell_type": "code",
      "source": [
        "x_train,x_test,y_train,y_test=train_test_split(x,y,random_state=35,test_size=0.35)\n",
        "rfc = RandomForestClassifier()\n",
        "rfc.fit(x_train,y_train)\n",
        "predictions = rfc.predict(x_test)"
      ],
      "metadata": {
        "execution": {
          "iopub.status.busy": "2023-12-08T15:01:11.515122Z",
          "iopub.execute_input": "2023-12-08T15:01:11.515915Z",
          "iopub.status.idle": "2023-12-08T15:01:11.709732Z",
          "shell.execute_reply.started": "2023-12-08T15:01:11.515881Z",
          "shell.execute_reply": "2023-12-08T15:01:11.709017Z"
        },
        "trusted": true,
        "id": "jPxbzxtCqpRD"
      },
      "execution_count": null,
      "outputs": []
    },
    {
      "cell_type": "code",
      "source": [
        "from sklearn.metrics import accuracy_score, classification_report, confusion_matrix\n",
        "accuracy = accuracy_score(y_test, predictions)\n",
        "print(f'Accuracy: {accuracy:.4%}')"
      ],
      "metadata": {
        "execution": {
          "iopub.status.busy": "2023-12-08T15:01:11.710735Z",
          "iopub.execute_input": "2023-12-08T15:01:11.711051Z",
          "iopub.status.idle": "2023-12-08T15:01:11.720569Z",
          "shell.execute_reply.started": "2023-12-08T15:01:11.711024Z",
          "shell.execute_reply": "2023-12-08T15:01:11.719327Z"
        },
        "trusted": true,
        "id": "UVV7-5mVqpRD",
        "outputId": "e271c794-8a70-40a2-9a9d-0488b71e805f"
      },
      "execution_count": null,
      "outputs": [
        {
          "name": "stdout",
          "text": "Accuracy: 77.6744%\n",
          "output_type": "stream"
        }
      ]
    },
    {
      "cell_type": "code",
      "source": [
        "conf_matrix = confusion_matrix(predictions,y_test)\n",
        "print(conf_matrix)"
      ],
      "metadata": {
        "execution": {
          "iopub.status.busy": "2023-12-08T15:01:11.721883Z",
          "iopub.execute_input": "2023-12-08T15:01:11.722479Z",
          "iopub.status.idle": "2023-12-08T15:01:11.741873Z",
          "shell.execute_reply.started": "2023-12-08T15:01:11.722445Z",
          "shell.execute_reply": "2023-12-08T15:01:11.740952Z"
        },
        "trusted": true,
        "id": "7Ef9O06yqpRD",
        "outputId": "76933bc8-2763-448d-dd4a-c08477478043"
      },
      "execution_count": null,
      "outputs": [
        {
          "name": "stdout",
          "text": "[[126  34]\n [ 14  41]]\n",
          "output_type": "stream"
        }
      ]
    },
    {
      "cell_type": "code",
      "source": [
        "tp = conf_matrix[0,0]\n",
        "fp = conf_matrix[1,0]\n",
        "fn = conf_matrix[0,1]\n",
        "\n",
        "precision  = tp / (tp + fp)\n",
        "recall     = tp / (tp + fn)\n",
        "f1_score   = 2*( precision * recall)/(precision + recall)"
      ],
      "metadata": {
        "execution": {
          "iopub.status.busy": "2023-12-08T15:01:11.744730Z",
          "iopub.execute_input": "2023-12-08T15:01:11.745603Z",
          "iopub.status.idle": "2023-12-08T15:01:11.758706Z",
          "shell.execute_reply.started": "2023-12-08T15:01:11.745566Z",
          "shell.execute_reply": "2023-12-08T15:01:11.757578Z"
        },
        "trusted": true,
        "id": "HpdnFD7HqpRE"
      },
      "execution_count": null,
      "outputs": []
    },
    {
      "cell_type": "code",
      "source": [
        "print(classification_report(predictions,y_test))"
      ],
      "metadata": {
        "execution": {
          "iopub.status.busy": "2023-12-08T15:01:11.759960Z",
          "iopub.execute_input": "2023-12-08T15:01:11.760321Z",
          "iopub.status.idle": "2023-12-08T15:01:11.786022Z",
          "shell.execute_reply.started": "2023-12-08T15:01:11.760290Z",
          "shell.execute_reply": "2023-12-08T15:01:11.784698Z"
        },
        "trusted": true,
        "id": "sDUhJKCSqpRE",
        "outputId": "62c3b727-20a4-4aab-ccdb-ee4a239ba105"
      },
      "execution_count": null,
      "outputs": [
        {
          "name": "stdout",
          "text": "              precision    recall  f1-score   support\n\n           0       0.90      0.79      0.84       160\n           1       0.55      0.75      0.63        55\n\n    accuracy                           0.78       215\n   macro avg       0.72      0.77      0.74       215\nweighted avg       0.81      0.78      0.79       215\n\n",
          "output_type": "stream"
        }
      ]
    },
    {
      "cell_type": "code",
      "source": [
        "test"
      ],
      "metadata": {
        "execution": {
          "iopub.status.busy": "2023-12-08T15:01:11.787375Z",
          "iopub.execute_input": "2023-12-08T15:01:11.787705Z",
          "iopub.status.idle": "2023-12-08T15:01:11.805917Z",
          "shell.execute_reply.started": "2023-12-08T15:01:11.787678Z",
          "shell.execute_reply": "2023-12-08T15:01:11.804941Z"
        },
        "trusted": true,
        "id": "HqrTvsEyqpRF",
        "outputId": "1e2e7c21-e022-4b9f-d286-4c0ce6c97b52"
      },
      "execution_count": null,
      "outputs": [
        {
          "execution_count": 12,
          "output_type": "execute_result",
          "data": {
            "text/plain": "     p_id  no_times_pregnant  glucose_concentration  blood_pressure  \\\n0     437                 12                    140              85   \n1     411                  6                    102              90   \n2     639                  7                     97              76   \n3     213                  7                    179              95   \n4     181                  6                     87              80   \n..    ...                ...                    ...             ...   \n149   178                  0                    129             110   \n150   662                  1                    199              76   \n151   159                  2                     88              74   \n152   298                  0                    126              84   \n153    59                  0                    146              82   \n\n     skin_fold_thickness  serum_insulin   bmi  diabetes pedigree  age  \n0                     33              0  37.4              0.244   41  \n1                     39              0  35.7              0.674   28  \n2                     32             91  40.9              0.871   32  \n3                     31              0  34.2              0.164   60  \n4                      0              0  23.2              0.084   32  \n..                   ...            ...   ...                ...  ...  \n149                   46            130  67.1              0.319   26  \n150                   43              0  42.9              1.394   22  \n151                   19             53  29.0              0.229   22  \n152                   29            215  30.7              0.520   24  \n153                    0              0  40.5              1.781   44  \n\n[154 rows x 9 columns]",
            "text/html": "<div>\n<style scoped>\n    .dataframe tbody tr th:only-of-type {\n        vertical-align: middle;\n    }\n\n    .dataframe tbody tr th {\n        vertical-align: top;\n    }\n\n    .dataframe thead th {\n        text-align: right;\n    }\n</style>\n<table border=\"1\" class=\"dataframe\">\n  <thead>\n    <tr style=\"text-align: right;\">\n      <th></th>\n      <th>p_id</th>\n      <th>no_times_pregnant</th>\n      <th>glucose_concentration</th>\n      <th>blood_pressure</th>\n      <th>skin_fold_thickness</th>\n      <th>serum_insulin</th>\n      <th>bmi</th>\n      <th>diabetes pedigree</th>\n      <th>age</th>\n    </tr>\n  </thead>\n  <tbody>\n    <tr>\n      <th>0</th>\n      <td>437</td>\n      <td>12</td>\n      <td>140</td>\n      <td>85</td>\n      <td>33</td>\n      <td>0</td>\n      <td>37.4</td>\n      <td>0.244</td>\n      <td>41</td>\n    </tr>\n    <tr>\n      <th>1</th>\n      <td>411</td>\n      <td>6</td>\n      <td>102</td>\n      <td>90</td>\n      <td>39</td>\n      <td>0</td>\n      <td>35.7</td>\n      <td>0.674</td>\n      <td>28</td>\n    </tr>\n    <tr>\n      <th>2</th>\n      <td>639</td>\n      <td>7</td>\n      <td>97</td>\n      <td>76</td>\n      <td>32</td>\n      <td>91</td>\n      <td>40.9</td>\n      <td>0.871</td>\n      <td>32</td>\n    </tr>\n    <tr>\n      <th>3</th>\n      <td>213</td>\n      <td>7</td>\n      <td>179</td>\n      <td>95</td>\n      <td>31</td>\n      <td>0</td>\n      <td>34.2</td>\n      <td>0.164</td>\n      <td>60</td>\n    </tr>\n    <tr>\n      <th>4</th>\n      <td>181</td>\n      <td>6</td>\n      <td>87</td>\n      <td>80</td>\n      <td>0</td>\n      <td>0</td>\n      <td>23.2</td>\n      <td>0.084</td>\n      <td>32</td>\n    </tr>\n    <tr>\n      <th>...</th>\n      <td>...</td>\n      <td>...</td>\n      <td>...</td>\n      <td>...</td>\n      <td>...</td>\n      <td>...</td>\n      <td>...</td>\n      <td>...</td>\n      <td>...</td>\n    </tr>\n    <tr>\n      <th>149</th>\n      <td>178</td>\n      <td>0</td>\n      <td>129</td>\n      <td>110</td>\n      <td>46</td>\n      <td>130</td>\n      <td>67.1</td>\n      <td>0.319</td>\n      <td>26</td>\n    </tr>\n    <tr>\n      <th>150</th>\n      <td>662</td>\n      <td>1</td>\n      <td>199</td>\n      <td>76</td>\n      <td>43</td>\n      <td>0</td>\n      <td>42.9</td>\n      <td>1.394</td>\n      <td>22</td>\n    </tr>\n    <tr>\n      <th>151</th>\n      <td>159</td>\n      <td>2</td>\n      <td>88</td>\n      <td>74</td>\n      <td>19</td>\n      <td>53</td>\n      <td>29.0</td>\n      <td>0.229</td>\n      <td>22</td>\n    </tr>\n    <tr>\n      <th>152</th>\n      <td>298</td>\n      <td>0</td>\n      <td>126</td>\n      <td>84</td>\n      <td>29</td>\n      <td>215</td>\n      <td>30.7</td>\n      <td>0.520</td>\n      <td>24</td>\n    </tr>\n    <tr>\n      <th>153</th>\n      <td>59</td>\n      <td>0</td>\n      <td>146</td>\n      <td>82</td>\n      <td>0</td>\n      <td>0</td>\n      <td>40.5</td>\n      <td>1.781</td>\n      <td>44</td>\n    </tr>\n  </tbody>\n</table>\n<p>154 rows × 9 columns</p>\n</div>"
          },
          "metadata": {}
        }
      ]
    },
    {
      "cell_type": "code",
      "source": [
        "sample_submission = pd.read_csv('../input/diabetes-classification/sample_submission.csv')\n",
        "sample_submission"
      ],
      "metadata": {
        "execution": {
          "iopub.status.busy": "2023-12-08T15:01:11.807156Z",
          "iopub.execute_input": "2023-12-08T15:01:11.808606Z",
          "iopub.status.idle": "2023-12-08T15:01:11.829610Z",
          "shell.execute_reply.started": "2023-12-08T15:01:11.808555Z",
          "shell.execute_reply": "2023-12-08T15:01:11.828192Z"
        },
        "trusted": true,
        "id": "-AXl0r58qpRF",
        "outputId": "70112987-dff5-436d-f418-04b1e25cd455"
      },
      "execution_count": null,
      "outputs": [
        {
          "execution_count": 13,
          "output_type": "execute_result",
          "data": {
            "text/plain": "     p_id  diabetes\n0     437         0\n1     411         0\n2     639         0\n3     213         0\n4     181         0\n..    ...       ...\n149   178         0\n150   662         0\n151   159         0\n152   298         0\n153    59         0\n\n[154 rows x 2 columns]",
            "text/html": "<div>\n<style scoped>\n    .dataframe tbody tr th:only-of-type {\n        vertical-align: middle;\n    }\n\n    .dataframe tbody tr th {\n        vertical-align: top;\n    }\n\n    .dataframe thead th {\n        text-align: right;\n    }\n</style>\n<table border=\"1\" class=\"dataframe\">\n  <thead>\n    <tr style=\"text-align: right;\">\n      <th></th>\n      <th>p_id</th>\n      <th>diabetes</th>\n    </tr>\n  </thead>\n  <tbody>\n    <tr>\n      <th>0</th>\n      <td>437</td>\n      <td>0</td>\n    </tr>\n    <tr>\n      <th>1</th>\n      <td>411</td>\n      <td>0</td>\n    </tr>\n    <tr>\n      <th>2</th>\n      <td>639</td>\n      <td>0</td>\n    </tr>\n    <tr>\n      <th>3</th>\n      <td>213</td>\n      <td>0</td>\n    </tr>\n    <tr>\n      <th>4</th>\n      <td>181</td>\n      <td>0</td>\n    </tr>\n    <tr>\n      <th>...</th>\n      <td>...</td>\n      <td>...</td>\n    </tr>\n    <tr>\n      <th>149</th>\n      <td>178</td>\n      <td>0</td>\n    </tr>\n    <tr>\n      <th>150</th>\n      <td>662</td>\n      <td>0</td>\n    </tr>\n    <tr>\n      <th>151</th>\n      <td>159</td>\n      <td>0</td>\n    </tr>\n    <tr>\n      <th>152</th>\n      <td>298</td>\n      <td>0</td>\n    </tr>\n    <tr>\n      <th>153</th>\n      <td>59</td>\n      <td>0</td>\n    </tr>\n  </tbody>\n</table>\n<p>154 rows × 2 columns</p>\n</div>"
          },
          "metadata": {}
        }
      ]
    },
    {
      "cell_type": "code",
      "source": [
        "RT = RandomForestClassifier()\n",
        "RT.fit(x_train,y_train)\n",
        "fin_predictions = RT.predict(test)"
      ],
      "metadata": {
        "execution": {
          "iopub.status.busy": "2023-12-08T15:01:11.831250Z",
          "iopub.execute_input": "2023-12-08T15:01:11.831967Z",
          "iopub.status.idle": "2023-12-08T15:01:12.031172Z",
          "shell.execute_reply.started": "2023-12-08T15:01:11.831924Z",
          "shell.execute_reply": "2023-12-08T15:01:12.030165Z"
        },
        "trusted": true,
        "id": "ZjwlCzjbqpRG"
      },
      "execution_count": null,
      "outputs": []
    },
    {
      "cell_type": "code",
      "source": [
        "fin_predictions"
      ],
      "metadata": {
        "execution": {
          "iopub.status.busy": "2023-12-08T15:01:12.032197Z",
          "iopub.execute_input": "2023-12-08T15:01:12.032452Z",
          "iopub.status.idle": "2023-12-08T15:01:12.039267Z",
          "shell.execute_reply.started": "2023-12-08T15:01:12.032419Z",
          "shell.execute_reply": "2023-12-08T15:01:12.037917Z"
        },
        "trusted": true,
        "id": "Z4yVfQ_bqpRG",
        "outputId": "11a0e886-fc6b-4339-f2a2-4ed0f400aaf4"
      },
      "execution_count": null,
      "outputs": [
        {
          "execution_count": 15,
          "output_type": "execute_result",
          "data": {
            "text/plain": "array([1, 0, 0, 1, 0, 0, 1, 1, 0, 0, 1, 0, 1, 0, 0, 0, 0, 0, 1, 0, 0, 0,\n       0, 1, 0, 0, 0, 0, 0, 0, 0, 0, 0, 0, 1, 0, 0, 0, 0, 0, 0, 1, 0, 1,\n       0, 0, 1, 1, 1, 0, 0, 0, 0, 1, 0, 0, 0, 0, 0, 0, 1, 0, 0, 1, 1, 1,\n       0, 0, 0, 0, 1, 1, 0, 0, 0, 0, 0, 0, 0, 0, 1, 0, 0, 0, 0, 0, 1, 0,\n       0, 0, 0, 0, 0, 1, 1, 0, 0, 0, 0, 1, 1, 1, 0, 0, 0, 1, 0, 0, 0, 0,\n       1, 0, 0, 1, 1, 1, 1, 0, 0, 0, 1, 0, 1, 0, 0, 0, 0, 0, 1, 0, 0, 0,\n       1, 0, 1, 0, 0, 0, 0, 0, 0, 0, 0, 0, 1, 0, 0, 1, 1, 0, 1, 0, 0, 1])"
          },
          "metadata": {}
        }
      ]
    },
    {
      "cell_type": "code",
      "source": [
        "output = pd.DataFrame({'p_id':test.p_id,'diabetes':fin_predictions})\n",
        "output.to_csv('my_submission.csv', index=False)"
      ],
      "metadata": {
        "execution": {
          "iopub.status.busy": "2023-12-08T15:29:49.078490Z",
          "iopub.execute_input": "2023-12-08T15:29:49.079224Z",
          "iopub.status.idle": "2023-12-08T15:29:49.088609Z",
          "shell.execute_reply.started": "2023-12-08T15:29:49.079194Z",
          "shell.execute_reply": "2023-12-08T15:29:49.087405Z"
        },
        "trusted": true,
        "id": "QsqhT-jbqpRG",
        "outputId": "9e7035eb-56b2-4d6b-d49a-9cdf66b51bdb"
      },
      "execution_count": null,
      "outputs": [
        {
          "execution_count": 18,
          "output_type": "execute_result",
          "data": {
            "text/plain": "/kaggle/working/my_submission.csv",
            "text/html": "<a href='my_submission.csv' target='_blank'>my_submission.csv</a><br>"
          },
          "metadata": {}
        }
      ]
    }
  ]
}